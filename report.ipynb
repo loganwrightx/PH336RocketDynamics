{
 "cells": [
  {
   "cell_type": "markdown",
   "metadata": {},
   "source": [
    "### Experimental difficulties\n",
    "\n",
    "#### Wind issues\n",
    "* Gusts reached 11 meters per second, making control difficult.\n",
    "    * Launched a C6-5 motor rocket expected to reach 300 meters in wind—never found it.\n",
    "#### Cold and muddy terrain\n",
    "* Leftover snow left on cardboard rocket, weakening the structure.\n",
    "    * Had to cut away soggy cardboard to fit the motor.\n",
    "* Searching for lost rockets meant walking through five inches of mud sometimes.\n",
    "#### Parachute failures\n",
    "* Initially didn’t deploy—packed too tight. We pulled the parachute long ways then folded it.\n",
    "    * Unfolded parachute, this helped, but parachutes got tangled and didn’t unravel.\n",
    "        * Finally stretched the strings around the parachute in its correct orientation while packed.\n",
    "* 2/3 success rate—some rockets still crashed.\n",
    "    * 2 rockets bent on landing.\n",
    "#### Nose cone connection issues\n",
    "* 80% failure rate with original cardstock and staple method.\n",
    "    * Switched to cutting a hole in the rocket, threading the rubber band through, and securing it with superglue—better results.\n",
    "#### Launcher problems\n",
    "* Bad batteries, faulty bulb, and disconnected wire.\n",
    "    * Fixed by replacing parts and soldering the wire to the clamp.\n",
    "#### Miscellaneous setbacks\n",
    "* GitHub confusion—team lacked experience.\n",
    "* Didn’t know the plug was needed to hold the igniter.\n",
    "* Angle finder maxed out, making altitude data useless for C6-5 motors.\n",
    "* Forgot the rolling meter stick.\n",
    "* Melted the end of a rocket."
   ]
  },
  {
   "cell_type": "markdown",
   "metadata": {},
   "source": []
  }
 ],
 "metadata": {
  "language_info": {
   "name": "python"
  }
 },
 "nbformat": 4,
 "nbformat_minor": 2
}
