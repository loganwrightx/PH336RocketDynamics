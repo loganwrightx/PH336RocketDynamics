{
 "cells": [
  {
   "cell_type": "markdown",
   "metadata": {},
   "source": [
    "# Modeling the Dynamics of a Propulsive Vehicle in a Quadratic Fluid\n",
    "### Abram Bell, Matthew Boling, Wes Crapo, Logan Wright \n"
   ]
  },
  {
   "cell_type": "markdown",
   "metadata": {},
   "source": [
    "\n",
    "### Introduction\n",
    "\n",
    "Our aim was to develop a computational model to precisely and accurately characterize the trajectory of a rocket subject to aerodynamic loads and nonlinear forces. This was done by implementing experimental variables in the computational model such that its predictions, along with experimental measurements, pass a Chi-Squared Test. The goals of our project were to obtain thrust-curve data for an Estes A8 Motor, generate experimental data such as apogee, time of flight, and lateral distance traveled by launching rockets in variable environments, and to prove or improve a Runge-Kutta 4 (RK4) computational model of a rocket in an aerodynamic environment. This model incorporated variables such as time-dependent wind speed and direction, air temperature, thrust, air drag, and launch angle. We also aimed to estimate uncertainty using Monte Carlo algorithms and numerical integrators, and compare characteristics of rocket performance with those of the simulations using a Chi-Squared Test with significance level $ \\alpha = 0.05 $. We predicted a passing p-value ($ \\alpha > 0.05 $), which would suggest no significant difference between the results from our computational model and the results from our experiment.\n",
    "\n",
    "We made several assumptions in our modeling. Air resistance was assumed to follow the quadratic air drag model:\n",
    "\n",
    "\n",
    "$$\n",
    "F_{\\text{drag}} = \\frac{1}{2} \\rho v^2 C A\n",
    "$$\n",
    "\n",
    "\n",
    "where  \n",
    "$F_{\\text{drag}}$ = drag force (N),  \n",
    "$\\rho$ = air density (kg/m³),  \n",
    "$v$ = velocity of the rocket (m/s),  \n",
    "$C$ = drag coefficient (unitless),  \n",
    "$A$ = cross-sectional area of the rocket (m²).\n",
    "\n",
    "Air density was assumed to vary with altitude and was modeled using NASA’s Troposphere equations:\n",
    "\n",
    "$$\n",
    "t = 15.04 - 0.00649h\n",
    "$$\n",
    "\n",
    "$$\n",
    "p = 101.29 \\cdot \\left( \\frac{t}{288.08} \\right)^{5.256}\n",
    "$$\n",
    "\n",
    "$$\n",
    "\\rho = \\frac{p}{0.2869 \\cdot t}\n",
    "$$\n",
    "\n",
    "where  \n",
    "$h$ = altitude (m),  \n",
    "$t$ = air temperature (°C),  \n",
    "$p$ = atmospheric pressure (kPa),  \n",
    "$\\rho$ = air density (kg/m³).\n",
    "\n",
    "We also assumed the launch and landing elevations were the same, implying zero height variability in the surrounding terrain. The rocket was modeled with a constant shape—cylindrical with a conical tip. Mass was assumed to follow a linear decrease during fuel consumption. \n",
    "\n",
    "Putting the forces together, the differential equation we sought to solve was\n",
    "\n",
    "$$ \\sum \\vec{F} = \\vec{T(t)} - \\vec{F}_ {\\text{Drag}} - \\vec{F}_ {g} - \\vec{F}_{\\text{Aero}} = m(t) \\cdot \\ddot{\\vec{r}} $$\n",
    "\n",
    "where ${T(t)}$ is the thrust force and $\\vec{F}_{\\text{Aero}}$ is the aerodynamic force on the body induced by wind."
   ]
  },
  {
   "cell_type": "markdown",
   "metadata": {},
   "source": [
    "\n",
    "### Equipment\n",
    "\n",
    "The equipment used included multiple Estes A8 and C6 motors, an Estes SkyWriter rocket with a nosecone and parachute, and standard launch supplies such as a launch pad, launcher, igniters, and motor wadding. A computer with Python 3.13 and Logger Pro was used to collect and analyze data. A phone was used for video timing and recording. We used a force sensor to record thrust during static testing, as well as a thermometer and anemometer to record environmental conditions. An Estes Altitrak was used to measure the angle from a fixed distance to the apex of the rocket's flight, allowing the apogee to be determined, with distances verified using a surveyor’s wheel. Additional supplies included rubber bands, tape, a wood block for motor mounting, stationary stands, lab notebooks, pens, a soldering iron, and solder for repairing electrical components.\n"
   ]
  },
  {
   "cell_type": "markdown",
   "metadata": {},
   "source": [
    "### Setup\n",
    "\n",
    "Before any launches, we conducted static thrust tests to collect our own thrust-curve data. We placed the force sensor on the ground, positioned a wood block on top, and mounted the rocket motor vertically on the block. Stands were used on either side to prevent tipping. The igniter was inserted into the motor and secured with a plug. Logger Pro was used to record force data during ignition. \n",
    "\n",
    "<img src=\"Thrust_Curve_Setup.JPG\" alt=\"Thrust Curve Setup\" width=\"400\">\n",
    "\n",
    "\n",
    "For launch testing, we initially used fields above a temple but later relocated to sand dunes for easier tracking, less snow and less angry farmers. The launch pad was positioned vertically. Igniters were placed and secured with plugs, and backups were brought due to a high failure rate.\n",
    "\n",
    "<img src=\"Close_Up_Launch.JPG\" alt=\"Close Up Launch\" width=\"400\">\n",
    "\n",
    "To measure apogee, we used an Estes Altitrak operated from multiple distances: 30 meters and 50 meters for the first two launches, and 40 meters on the third launch. Distances were measured with a surveyor’s wheel. Wind speed and gusts were recorded using an anemometer, and temperature was measured each day. Logger Pro captured thrust data, which was then graphed and used in a Python 3.13 simulation of rocket behavior. Video was used to time flights, and all recorded conditions were included in our modeling and statistical tests.\n",
    "\n",
    "<img src=\"Wide_View_Launch.JPG\" alt=\"Wide View Launch\" width=\"400\">\n",
    "\n"
   ]
  },
  {
   "cell_type": "markdown",
   "metadata": {},
   "source": [
    "\n",
    "### Procedure\n",
    "The project began by finding the thrust curve of the motors, to do this the force sensor was placed on the ground with a wooden block resting on top. An Estes A8 motor was then mounted vertically on the block, inside a drilled shallow hole, aligning the motor with the force sensor. The block was secured using stands to prevent it from tipping over during ignition. An igniter was inserted into the motor using a plug to keep it in place. The force sensor was connected to Logger Pro and data recording began. A launcher was used to attempt to ignite the motor. When it ignited, Logger Pro captured the force over time. This process was repeated multiple times with the hope of ensuring consistency.\n",
    "\n",
    "The second part of the project was the launch. After choosing a flat, open launch area with good visibility the launch pad was set up. Using a surveyor's wheel, two observation points were measured out in perpendicular directions from the launch pad. The wind speed was recorded using an anemometer. Multiple pieces of wadding were placed into the top of the rocket, the parachute was pushed down onto the wadding and the nosecone was placed on top. A motor was installed into the rocket and an igniter was installed into the motor using a plug to hold it in place. It was confirmed that the igniter wires were not touching under the plug and that the igniter had continuity. The rocket was slid down onto the launch pad and the launcher was attached to each side of the igniter. The rocket was launched. An Estes Altitrak was then used at each of the observation points, the trigger was held as the rocket was launched and the Altitrak was pointed at the rocket, only released once the angle stopped increasing. The flight was recorded and the video was used to time the flight. From the two observation points, the angle to the rocket's apogee was measured. The rocket was retrieved and damage was assessed. The data was recorded. The process was repeated under different weather conditions until consistency was achieved.\n",
    "\n",
    "![alt text](trig.jpg)"
   ]
  },
  {
   "cell_type": "markdown",
   "metadata": {},
   "source": [
    "\n",
    "### Data\n",
    "The following thrust-curve data was recorded for an Estes A8 Motor (n = 3). The standard deviation between the trials, averaging across all datapoints, was .26 N.\n",
    "\n",
    "![alt text](Updated_Thrust_Curve_Data.png)\n",
    "\n",
    "The following conditions and data were recorded for the first and second launch days, respectively. \n",
    "\n",
    "![alt text](Launch_Data_1.png)\n",
    "![alt text](Launch_Data_2.png)\n",
    "\n",
    "The following displays qualitative results of position and velocity from our computational model. \n",
    "\n",
    "![alt text](flight2.png)"
   ]
  },
  {
   "cell_type": "markdown",
   "metadata": {},
   "source": [
    "\n",
    "### Experimental Difficulties\n",
    "\n",
    "Wind conditions were a major challenge, with gusts reaching 11 m/s and contributing to the loss of a C6-5 rocket. Cold and muddy terrain added to the challenge as the snow soaked into the cardboard rockets, requiring trimming to fit the motors. These challenges prompted us to relocate to sand dunes. Parachute deployment issues persisted throughout early launches. Parachutes were initially packed too tightly and did not unfold. We tried unfolding and refolding techniques, eventually avoiding even wrapping the strings around the parachute which slightly improved results. We achieved about a two-thirds success rate, and two were damaged after landing on hard surfaces.\n",
    "\n",
    "Nose cone connections failed frequently using cardstock, glue, and staples. We later switched to threading a rubber band through a hole in the body and using superglue, which was more reliable. The launcher itself also had problems, including bad batteries, a faulty bulb, and stripped wire insulation, which caused short circuits. These were resolved with part replacements, soldering, and heat shrink. Igniter failure was also common, with around one-third failing on the first attempt. After confirming wires were not touching improperly, we reattempted launches using backup igniters. Other issues included GitHub confusion, not knowing the plug was needed to secure igniters, the angle finder maxing out (rendering C6-5 altitude data unusable), a forgotten rolling meter stick, and a rocket end that melted during launch.\n"
   ]
  },
  {
   "cell_type": "markdown",
   "metadata": {},
   "source": [
    "### Analysis\n",
    "\n",
    "We used basic trigonometry to calculate apogee. Using the angle to the apex and the horizontal distance, the height was given by:\n",
    "\n",
    "$$\n",
    "y = d \\cdot \\tan(\\theta) + h\n",
    "$$\n",
    "\n",
    "where  \n",
    "$y$ = apogee (m),  \n",
    "$d$ = horizontal distance from observer to launch point (m),  \n",
    "$\\theta$ = measured angle of elevation to the rocket at its apex,   \n",
    "$h$ = approximate height to each observer's eyes.\n",
    "\n",
    "Uncertainty in the height measurement was calculated via propagation of error:\n",
    "\n",
    "$$\n",
    "\\delta y = \\sqrt{ \\left( d \\cdot \\sec^2(\\theta) \\cdot \\delta\\theta \\right)^2 + \\left( \\tan(\\theta) \\cdot \\delta d \\right)^2 }\n",
    "$$\n",
    "\n",
    "where  \n",
    "$\\delta y$ = uncertainty in height (m),  \n",
    "$\\delta \\theta$ = uncertainty in the angle,  \n",
    "$\\delta d$ = uncertainty in horizontal distance (m).\n",
    "\n",
    "To combine apogee results from multiple measurements with different uncertainties, we used a weighted average:\n",
    "\n",
    "$$\n",
    "\\bar{y} = \\frac{ \\frac{y_1}{\\sigma_1^2} + \\frac{y_2}{\\sigma_2^2} }{ \\frac{1}{\\sigma_1^2} + \\frac{1}{\\sigma_2^2} }\n",
    "$$\n",
    "\n",
    "$$\n",
    "\\sigma = \\frac{1}{ \\sqrt{ \\frac{1}{\\sigma_1^2} + \\frac{1}{\\sigma_2^2} } }\n",
    "$$\n",
    "\n",
    "where  \n",
    "$\\bar{y}$ = combined best estimate for height (m),  \n",
    "$y_1, y_2$ = individual height measurements (m),  \n",
    "$\\sigma_1, \\sigma_2$ = corresponding uncertainties (m),  \n",
    "$\\sigma$ = uncertainty of the combined height estimate (m).\n",
    "\n",
    "The first launch day yielded the following experimental results. The total height reached was $47 \\pm 6$ meters. Total hang time was $7.2 \\pm 0.8$ seconds. The horizontal distance traveled was $9 \\pm 4$ meters.\n",
    "\n",
    "\n",
    "\n",
    "The Chi-Squared Test was employed to compare our Monte-Carlo data with experimental data. Time of flight, apex height, and radial distance traveled were compared. Chi-squared was calculated by\n",
    "\n",
    "$$ \\chi ^2 = \\sum \\frac{(measured - expected)^2}{\\sigma ^2} $$\n",
    "$$ \\sigma = \\sqrt{\\sigma_m ^2 + \\sigma_e ^2} $$\n",
    "\n",
    "With 2 degrees of freedom, the p-value for the first and second days (respectively) were as follows:\n",
    "\n",
    "\n",
    "![alt text](Data_Analysis_1.png)\n",
    "\n",
    "![alt text](Data_Analysis_2.png)\n",
    "\n",
    "With a p-value of .25 for our first launch, we are confident our computational model matches the experimental results of day one. However, with a p-value of .003 for our second launch, we cannot say these datasets match. The biggest contribution to discrepancy in both launch days arises from a difference in apogee. We predict this was a result of damage to the rocket body. The asymmetric shape caused the rocket to deviate at a sharper angle, decreasing the apex height while maintaining similar flight time. This was especially observed during the second day of launching. Large uncertainties in the measured radial distance also contributed to a smaller chi-squared value. This points towards our wind model not being completely accurate, as we would expect greater standard deviation in our predicted radial distance. Lastly, we note excellent agreement with our measured and predicted time of flight, suggesting our thrust-curve data acquisition was robust. \n"
   ]
  },
  {
   "cell_type": "markdown",
   "metadata": {},
   "source": [
    "\n",
    "### Conclusion\n",
    "\n",
    "Our goal was to create a computational model to precisely and accurately characterize the flight of our rocket. To do this we introduced multiple experimental variables to incrementally produce results closer to our measured data. We created a thrust curve from our motors, then measured multiple varibles to implement into our code; some of these variables include wind speed and direction, air temperature, and launch angle. After measuring our experimental data and producing a functioning python approximation, we compared the simulation to our measured data and found that from the less windy day, our simulation fits our observed values. From the more windy day, our simulation unfortunately didn't fit the data as well, we believe this is at least in part due to our rockets off-nominal structural integrity. \n",
    "\n",
    "This simulation made some assumptions including but not limited to air resistance being assumed to follow the quadratic air drag model. We also assumed that air density varied with altitude, modeled using NASA’s Troposphere equations. We also assumed the launch and landing elevations were the same, and the rocket was modeled with a constant shape — cylindrical with a conical tip. Mass was assumed to follow a linear decrease during fuel consumption.\n",
    "\n",
    "We used trigonometry and weighted averages to calculate the average height. We used simple newtonian mechanics in our code through Runge-Kutta 4 to find flight characterizations and calculus to find the uncertainties.\n",
    "\n",
    "We had a multitude of difficulties including wires that were short-circuiting that we fixed with solder and heat shrink, rockets that were slightly bent after parachute failure and difficulty in finding a suitable launch location. \n",
    "\n",
    "Future research to expand upon ours may include exploring new wind models and six degree of freedom rigid body mechanics, incorporating these changes would improve accuracy of apogee approximations. We would also allow for a time and position reliant model. We would use rockets that are in better condition, with parachutes that actually open and igniters that actually ignite. We will also choose better launch locations from the beginning."
   ]
  }
 ],
 "metadata": {
  "kernelspec": {
   "display_name": "Python 3",
   "language": "python",
   "name": "python3"
  },
  "language_info": {
   "name": "python",
   "version": "3.12.8"
  }
 },
 "nbformat": 4,
 "nbformat_minor": 2
}
